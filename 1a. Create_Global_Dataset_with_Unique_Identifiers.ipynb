{
 "cells": [
  {
   "cell_type": "code",
   "execution_count": null,
   "id": "25ffb728",
   "metadata": {},
   "outputs": [],
   "source": [
    "import pandas as pd\n",
    "import numpy as np\n",
    "import os\n",
    "import glob\n",
    "import re"
   ]
  },
  {
   "cell_type": "code",
   "execution_count": 13,
   "id": "aa531814",
   "metadata": {},
   "outputs": [
    {
     "name": "stdout",
     "output_type": "stream",
     "text": [
      "start0\n",
      "start1\n",
      "36\n",
      "j: 0\n",
      "j: 1\n",
      "j: 2\n",
      "j: 3\n",
      "j: 4\n",
      "j: 5\n",
      "j: 6\n",
      "j: 7\n",
      "j: 8\n",
      "j: 9\n",
      "j: 10\n",
      "j: 11\n",
      "j: 12\n",
      "j: 13\n",
      "j: 14\n",
      "j: 15\n",
      "j: 16\n",
      "j: 17\n",
      "j: 18\n",
      "j: 19\n",
      "j: 20\n",
      "j: 21\n",
      "j: 22\n",
      "j: 23\n",
      "j: 24\n",
      "j: 25\n",
      "j: 26\n",
      "j: 27\n",
      "j: 28\n",
      "j: 29\n",
      "j: 30\n",
      "j: 31\n",
      "j: 32\n",
      "j: 33\n",
      "j: 34\n",
      "j: 35\n",
      "start2\n"
     ]
    },
    {
     "name": "stderr",
     "output_type": "stream",
     "text": [
      "C:\\Users\\Nynke (A193DBBA)\\AppData\\Local\\Temp\\2\\ipykernel_4204\\2349112401.py:16: DtypeWarning: Columns (59,60,117,118,119,120,121,125,128,133,138,139,140,141,144,145,146,147,148,151,152,153,154,155,171,173,174,200,201,203,204,214,215,220,221,222,223,228,229,230,231,291,293,298,302,303,309,312,315) have mixed types. Specify dtype option on import or set low_memory=False.\n",
      "  NKR_data=pd.read_csv(r\"Z:\\IKNL data\\IKNL data update\\K21186.csv\", delimiter=';')\n"
     ]
    },
    {
     "name": "stdout",
     "output_type": "stream",
     "text": [
      "start3\n",
      "start4\n"
     ]
    }
   ],
   "source": [
    "##Create list of all structured files (from EPIC) and list with names of files\n",
    "print('start0')\n",
    "path_to_dir=r'Z:\\final EPIC data 20220909\\*.xlsx'\n",
    "list_files=glob.glob(path_to_dir)\n",
    "data_all=[]\n",
    "file_name=[]\n",
    "print('start1')\n",
    "print(len(list_files))\n",
    "for j in range(0,len(list_files)):\n",
    "    print('j:', j)\n",
    "    data_all.append(pd.read_excel(list_files[j]))\n",
    "    file_name.append(list_files[j][32:-5])\n",
    "\n",
    "print('start2')\n",
    "##Read NKR registry data\n",
    "NKR_data=pd.read_csv(r\"Z:\\IKNL data\\IKNL data update\\K21186.csv\", delimiter=';')\n",
    "\n",
    "print('start3')\n",
    "##Read tables with mapping between Patient ID (from the structured files) to the pseudoID of the clinical notes\n",
    "AMC_conv=pd.read_excel(r\"Z:\\final EPIC data 20220909\\Text data 6-10-2022\\002a AMC CTcue import-results-2022-09-12.xlsx\")\n",
    "VUmc_conv=pd.read_excel(r\"Z:\\final EPIC data 20220909\\Text data 6-10-2022\\002b VUmc CTcue import-results-2022-09-09.xlsx\")\n",
    "\n",
    "print('start4')\n",
    "##Read clinical notes from location AMC and location VUmc\n",
    "notes_AMC=pd.read_csv(r\"Z:\\final EPIC data 20220909\\Text data 6-10-2022\\amc_data_aanvraag_20221004_aangepast.csv\", encoding=\"utf-16\")\n",
    "notes_VUmc=pd.read_csv(r\"Z:\\final EPIC data 20220909\\Text data 6-10-2022\\vumc_data_aanvraag_20221004_aangepast.csv\", encoding=\"utf-16\")"
   ]
  },
  {
   "cell_type": "code",
   "execution_count": 14,
   "id": "1fa2aabe",
   "metadata": {},
   "outputs": [],
   "source": [
    "#From clinical notes pseudo_id to Epic ID (data_all) structured data to NKR ID\n",
    "Clinical_notes_ID=notes_AMC['pseudo_id'].iloc[0] #example, Patient pseudo ID relative at clinical note at row 0, from location AMC\n",
    "EPIC_ID=AMC_conv[AMC_conv[\"Patient_pseudo_id\"]==Clinical_notes_ID].Patient_hospital_id.values[0] #ID to be used for all structured data in data_all\n",
    "NKR_ID=data_all[0][data_all[0].MDN_NKR==EPIC_ID].KEY_NKR.values[0]\n",
    "\n",
    "#From NKR ID to EPIC ID to clinical notes pseudo_id \n",
    "\n",
    "Clinical_notes_ID=notes_AMC['pseudo_id'].iloc[0] #example, Patient pseudo ID relative at clinical note at row 0, from location AMC\n",
    "\n",
    "####EPIC (structured data, Electronic Health Records): this ID is used only to map to notes and to check content of data in EPIC app (NOT RELEVANT FOR YOU!)\n",
    "EPIC_ID=AMC_conv[AMC_conv[\"Patient_pseudo_id\"]==Clinical_notes_ID].Patient_hospital_id.values[0] #ID to be used for all structured data in data_all\n",
    "\n",
    "####NKR:\n",
    "NKR_ID=data_all[0][data_all[0].MDN_NKR==EPIC_ID].KEY_NKR.values[0] #ID to be used for both NKR and for EPIC data (data_all)\n",
    "data_patient_NKR=NKR_data[NKR_data.key_nkr==NKR_ID]\n",
    "\n",
    "#Example: extract lab tests for patient with ID = NKR_ID\n",
    "data_patient_EPIC_lab=data_all[3][data_all[3].KEY_NKR==NKR_ID] "
   ]
  },
  {
   "cell_type": "code",
   "execution_count": 15,
   "id": "5e699263",
   "metadata": {},
   "outputs": [],
   "source": [
    "#notes_VUmc['location'] = 'VUMC'\n",
    "#notes_AMC['location'] = 'AMC'\n",
    "df_amc_conv = AMC_conv\n",
    "df_vumc_conv = VUmc_conv\n",
    "notes_VUmc['location'] = 'VUmc'\n",
    "notes_AMC['location'] = 'AMC'\n",
    "df = pd.concat([notes_VUmc, notes_AMC])"
   ]
  },
  {
   "cell_type": "code",
   "execution_count": 16,
   "id": "99fa6cd6",
   "metadata": {},
   "outputs": [],
   "source": [
    "import copy\n",
    "df_backup = copy.deepcopy(df)\n",
    "conv = pd.concat([AMC_conv, VUmc_conv])"
   ]
  },
  {
   "cell_type": "code",
   "execution_count": 17,
   "id": "7c0c6c41",
   "metadata": {},
   "outputs": [],
   "source": [
    "df['note_nr'] = range(len(df))"
   ]
  },
  {
   "cell_type": "code",
   "execution_count": 18,
   "id": "20049125",
   "metadata": {},
   "outputs": [],
   "source": [
    "#df.to_csv('notenr_dataset.csv', sep='\\n')"
   ]
  },
  {
   "cell_type": "code",
   "execution_count": 20,
   "id": "cece7b7a",
   "metadata": {},
   "outputs": [],
   "source": [
    "import copy\n",
    "df_subset = copy.deepcopy(df)"
   ]
  },
  {
   "cell_type": "code",
   "execution_count": 24,
   "id": "5d68bf37",
   "metadata": {},
   "outputs": [
    {
     "name": "stdout",
     "output_type": "stream",
     "text": [
      "114\n"
     ]
    }
   ],
   "source": [
    "note_nrs = [100827, 108828, 122516, 122827, 129206, 129481, 135553, 135640, 137673, 139007, 141945, 144807, 145332, 20081, 23510, 23866, 23874, 2411, 3631, 39473, 41845, 51614, 51657, 51754, 52780, 62349, 62356, 66696, 66724, 67021, 67127, 67286, 67294, 69394, 69398, 69429, 70342, 73050, 73451, 73616, 74057, 76140, 76202, 77101, 79723, 79924, 81372, 81399, 9188, 92097, 9462, 98532, 108828, 11111, 122827, 122835, 123294, 129206, 129481, 129645, 135553, 135578, 135640, 136594, 137673, 144144, 148368, 148376, 15124, 20048, 23866, 23874, 2411, 24224, 3631, 37144, 41756, 41847, 49480, 51657, 51754, 53340, 53539, 60358, 60747, 61741, 61863, 62349, 66724, 67127, 67241, 67294, 69398, 69429, 70342, 73142, 73451, 73485, 73616, 74057, 76066, 76113, 76202, 77101, 79722, 79723, 79887, 79924, 81276, 81372, 81399, 93555, 9373, 9462]\n",
    "print(len(note_nrs))\n",
    "df_subset = df_subset[df_subset['note_nr'].isin(note_nrs)]"
   ]
  },
  {
   "cell_type": "code",
   "execution_count": 25,
   "id": "05df7aa4",
   "metadata": {},
   "outputs": [
    {
     "name": "stdout",
     "output_type": "stream",
     "text": [
      "84\n"
     ]
    }
   ],
   "source": [
    "print(len(df_subset))"
   ]
  },
  {
   "cell_type": "code",
   "execution_count": 26,
   "id": "ac16774f",
   "metadata": {},
   "outputs": [],
   "source": [
    "df_subset.to_csv('second_round_df.csv', sep = '\\n')"
   ]
  },
  {
   "cell_type": "code",
   "execution_count": null,
   "id": "f08d0034",
   "metadata": {},
   "outputs": [],
   "source": []
  }
 ],
 "metadata": {
  "kernelspec": {
   "display_name": "Python 3 (ipykernel)",
   "language": "python",
   "name": "python3"
  },
  "language_info": {
   "codemirror_mode": {
    "name": "ipython",
    "version": 3
   },
   "file_extension": ".py",
   "mimetype": "text/x-python",
   "name": "python",
   "nbconvert_exporter": "python",
   "pygments_lexer": "ipython3",
   "version": "3.9.13"
  }
 },
 "nbformat": 4,
 "nbformat_minor": 5
}
