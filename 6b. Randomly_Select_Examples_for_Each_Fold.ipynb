{
 "cells": [
  {
   "cell_type": "code",
   "execution_count": null,
   "id": "33b2daad",
   "metadata": {},
   "outputs": [],
   "source": [
    "import pandas as pd\n",
    "\n",
    "folds = pd.read_csv('folds.csv', sep = '\\t')"
   ]
  },
  {
   "cell_type": "code",
   "execution_count": null,
   "id": "acfcdefa",
   "metadata": {},
   "outputs": [],
   "source": [
    "examples = folds[folds['fold']==\"examples\"]"
   ]
  },
  {
   "cell_type": "code",
   "execution_count": null,
   "id": "7a9dd9d9",
   "metadata": {},
   "outputs": [],
   "source": [
    "examples.columns"
   ]
  },
  {
   "cell_type": "markdown",
   "id": "042d231f",
   "metadata": {},
   "source": [
    "# Select examples for binary task"
   ]
  },
  {
   "cell_type": "code",
   "execution_count": null,
   "id": "ed26da07",
   "metadata": {},
   "outputs": [],
   "source": [
    "import pandas as pd\n",
    "import numpy as np\n",
    "\n",
    "# Assuming df is already defined as your DataFrame with Dutch sentences and labels\n",
    "\n",
    "# Extract sentences and labels\n",
    "sentences = examples['sentence'].values\n",
    "labels = examples['relevance_manual'].values\n",
    "\n",
    "# Convert labels to numeric (including np.nan as a distinct label)\n",
    "unique_labels = pd.Series(labels).unique()\n",
    "label_mapping = {label: idx for idx, label in enumerate(unique_labels)}\n",
    "numeric_labels = np.array([label_mapping[label] for label in labels])\n",
    "\n",
    "# Function for random selection\n",
    "def random_selection(X, y, k):\n",
    "    \"\"\"Randomly selects k samples for each label.\"\"\"\n",
    "    random_samples_idx = []\n",
    "    for label in np.unique(y):\n",
    "        class_indices = np.where(y == label)[0]\n",
    "        if len(class_indices) > 0:\n",
    "            selected_indices = np.random.choice(class_indices, size=min(k, len(class_indices)), replace=False)\n",
    "            random_samples_idx.append(selected_indices)\n",
    "    \n",
    "    return np.concatenate(random_samples_idx) if random_samples_idx else np.array([])\n",
    "\n",
    "# Initialize an empty DataFrame to store the results\n",
    "random_bin_examples = pd.DataFrame(columns=[\"example\", \"label\", \"k\", \"fold\"])\n",
    "\n",
    "# Random selection process with 5 folds\n",
    "for k in range(1, 6):  # For each k\n",
    "    for fold in range(1, 6):  # Create 5 different folds\n",
    "        selected_samples_idx = random_selection(sentences, numeric_labels, k)\n",
    "        selected_sentences = [sentences[i] for i in selected_samples_idx]\n",
    "        selected_labels = numeric_labels[selected_samples_idx]\n",
    "\n",
    "        # Create a temporary DataFrame for this value of k and fold\n",
    "        temp_df = pd.DataFrame({\n",
    "            \"example\": selected_sentences,\n",
    "            \"label\": [unique_labels[label] for label in selected_labels],\n",
    "            \"k\": k,\n",
    "            \"fold\": fold\n",
    "        })\n",
    "        \n",
    "        # Append the temporary DataFrame to the results DataFrame\n",
    "        random_bin_examples = pd.concat([random_bin_examples, temp_df], ignore_index=True)\n",
    "\n",
    "# Display the final DataFrame\n",
    "print(random_bin_examples)\n"
   ]
  },
  {
   "cell_type": "code",
   "execution_count": null,
   "id": "e6737a3a",
   "metadata": {},
   "outputs": [],
   "source": [
    "examples_class = examples[examples['relevance_manual']==1]"
   ]
  },
  {
   "cell_type": "code",
   "execution_count": null,
   "id": "c49bc3df",
   "metadata": {},
   "outputs": [],
   "source": [
    "print(examples_class)"
   ]
  },
  {
   "cell_type": "markdown",
   "id": "add9ef6f",
   "metadata": {},
   "source": [
    "# Select examples for regression task"
   ]
  },
  {
   "cell_type": "code",
   "execution_count": null,
   "id": "c1b5d79a",
   "metadata": {},
   "outputs": [],
   "source": [
    "import pandas as pd\n",
    "import numpy as np\n",
    "\n",
    "# Assuming df is already defined as your DataFrame with Dutch sentences and labels\n",
    "\n",
    "# Extract sentences and labels\n",
    "sentences = examples_class['sentence'].values\n",
    "labels = examples_class['manual_sentence_labels'].values\n",
    "\n",
    "# Convert labels to numeric (including np.nan as a distinct label)\n",
    "unique_labels = pd.Series(labels).unique()\n",
    "label_mapping = {label: idx for idx, label in enumerate(unique_labels)}\n",
    "numeric_labels = np.array([label_mapping[label] for label in labels])\n",
    "\n",
    "# Function for random selection\n",
    "def random_selection(X, y, k):\n",
    "    \"\"\"Randomly selects k samples for each label.\"\"\"\n",
    "    random_samples_idx = []\n",
    "    for label in np.unique(y):\n",
    "        class_indices = np.where(y == label)[0]\n",
    "        if len(class_indices) > 0:\n",
    "            selected_indices = np.random.choice(class_indices, size=min(k, len(class_indices)), replace=False)\n",
    "            random_samples_idx.append(selected_indices)\n",
    "    \n",
    "    return np.concatenate(random_samples_idx) if random_samples_idx else np.array([])\n",
    "\n",
    "# Initialize an empty DataFrame to store the results\n",
    "random_class_examples = pd.DataFrame(columns=[\"example\", \"label\", \"k\", \"fold\"])\n",
    "\n",
    "# Random selection process with 5 folds\n",
    "for k in range(1, 6):  # For each k\n",
    "    for fold in range(1, 6):  # Create 5 different folds\n",
    "        selected_samples_idx = random_selection(sentences, numeric_labels, k)\n",
    "        selected_sentences = [sentences[i] for i in selected_samples_idx]\n",
    "        selected_labels = numeric_labels[selected_samples_idx]\n",
    "\n",
    "        # Create a temporary DataFrame for this value of k and fold\n",
    "        temp_df = pd.DataFrame({\n",
    "            \"example\": selected_sentences,\n",
    "            \"label\": [unique_labels[label] for label in selected_labels],\n",
    "            \"k\": k,\n",
    "            \"fold\": fold\n",
    "        })\n",
    "        \n",
    "        # Append the temporary DataFrame to the results DataFrame\n",
    "        random_class_examples = pd.concat([random_class_examples, temp_df], ignore_index=True)\n",
    "\n",
    "# Display the final DataFrame\n",
    "print(random_class_examples)\n"
   ]
  },
  {
   "cell_type": "code",
   "execution_count": null,
   "id": "c12c0236",
   "metadata": {},
   "outputs": [],
   "source": [
    "random_bin_examples.to_csv('df_bin_examples_random.csv', sep='\\t')\n",
    "random_class_examples.to_csv('df_class_examples_random.csv', sep='\\t')"
   ]
  },
  {
   "cell_type": "code",
   "execution_count": null,
   "id": "2ed23573",
   "metadata": {},
   "outputs": [],
   "source": [
    "examples_class"
   ]
  },
  {
   "cell_type": "code",
   "execution_count": null,
   "id": "319c9744",
   "metadata": {},
   "outputs": [],
   "source": []
  }
 ],
 "metadata": {
  "kernelspec": {
   "display_name": "Python 3 (ipykernel)",
   "language": "python",
   "name": "python3"
  },
  "language_info": {
   "codemirror_mode": {
    "name": "ipython",
    "version": 3
   },
   "file_extension": ".py",
   "mimetype": "text/x-python",
   "name": "python",
   "nbconvert_exporter": "python",
   "pygments_lexer": "ipython3",
   "version": "3.9.13"
  }
 },
 "nbformat": 4,
 "nbformat_minor": 5
}
