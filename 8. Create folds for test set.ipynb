{
 "cells": [
  {
   "cell_type": "code",
   "execution_count": null,
   "id": "93fc18ab",
   "metadata": {},
   "outputs": [],
   "source": [
    "import pandas as pd\n",
    "\n",
    "sentences_val = pd.read_csv(\"sentences_test.csv\", sep = '\\t')"
   ]
  },
  {
   "cell_type": "code",
   "execution_count": null,
   "id": "47f6f033",
   "metadata": {},
   "outputs": [],
   "source": [
    "import pandas as pd\n",
    "import numpy as np\n",
    "from sklearn.model_selection import StratifiedKFold\n",
    "\n",
    "# Parameters\n",
    "folds = 5\n",
    "fold_size = 150\n",
    "total_rows = folds * fold_size\n",
    "\n",
    "# # Create an example dataframe with 100 sentences\n",
    "# np.random.seed(42)  # For reproducibility\n",
    "# labels = np.random.choice([np.nan, 0, 1, 2, 3, 4, 5], size=100, p=[0.6, 0.19, 0.09, 0.04, 0.04, 0.02, 0.02])\n",
    "# sentences = [f\"Sentence {i+1}\" for i in range(100)]\n",
    "\n",
    "# # Construct the dataframe\n",
    "# sentences_val = pd.DataFrame({\n",
    "#     \"sentence\": sentences,\n",
    "#     \"manual_sentence_labels\": labels\n",
    "# })\n",
    "\n",
    "# Reduce to 60 rows, removing only np.nan values\n",
    "nan_rows = sentences_val[sentences_val['manual_sentence_labels'].isna()]\n",
    "int_rows = sentences_val[~sentences_val['manual_sentence_labels'].isna()]\n",
    "\n",
    "# Calculate the number of rows to remove\n",
    "rows_to_remove = len(sentences_val) - total_rows\n",
    "\n",
    "# Randomly remove rows from the nan_rows\n",
    "rows_to_drop = nan_rows.sample(n=rows_to_remove, random_state=42)\n",
    "sentences_val_reduced = sentences_val.drop(rows_to_drop.index)\n",
    "\n",
    "# Replace np.nan with a placeholder for stratification\n",
    "sentences_val_reduced['manual_sentence_labels'] = sentences_val_reduced['manual_sentence_labels'].fillna(-1)\n",
    "\n",
    "# StratifiedKFold to create stratified samples\n",
    "skf = StratifiedKFold(n_splits=folds, shuffle=True, random_state=42)\n",
    "stratified_samples = []\n",
    "\n",
    "# Generate the stratified samples\n",
    "for _, sample_index in skf.split(sentences_val_reduced, sentences_val_reduced['manual_sentence_labels']):\n",
    "    stratified_sample = sentences_val_reduced.iloc[sample_index]\n",
    "    stratified_sample['manual_sentence_labels'] = stratified_sample['manual_sentence_labels'].replace(-1, np.nan)\n",
    "    stratified_samples.append(stratified_sample)\n",
    "\n",
    "# Determine the \"examples\" set with the highest count for each class\n",
    "class_counts = pd.DataFrame()\n",
    "for i, sample in enumerate(stratified_samples):\n",
    "    counts = sample['manual_sentence_labels'].value_counts(dropna=False)\n",
    "    counts.name = i\n",
    "    class_counts = pd.concat([class_counts, counts], axis=1)\n",
    "\n",
    "# Identify the sample that should be used as \"examples\"\n",
    "examples_index = class_counts.idxmax(axis=1).value_counts().idxmax()\n",
    "\n",
    "# Assign the selected sample as \"examples\"\n",
    "examples = stratified_samples[examples_index]\n",
    "\n",
    "# Assign the remaining samples to \"fold1\" through \"fold5\"\n",
    "remaining_samples = [sample for i, sample in enumerate(stratified_samples) if i != examples_index]\n",
    "folds_dict = {f\"fold{i+1}\": remaining_samples[i] for i in range(folds - 1)}\n",
    "\n",
    "# Output the resulting folds\n",
    "output_dfs = {\"examples\": examples}\n",
    "output_dfs.update(folds_dict)\n",
    "\n",
    "# Display the output\n",
    "output_dfs[\"examples\"], output_dfs[\"fold1\"], output_dfs[\"fold2\"]\n"
   ]
  },
  {
   "cell_type": "code",
   "execution_count": null,
   "id": "a446f947",
   "metadata": {},
   "outputs": [],
   "source": [
    "# Display the output\n",
    "#output_dfs[\"examples\"], output_dfs[\"fold1\"], output_dfs[\"fold2\"], output_dfs[\"fold3\"], output_dfs[\"fold4\"], output_dfs[\"fold5\"],"
   ]
  },
  {
   "cell_type": "code",
   "execution_count": null,
   "id": "7e4b8f43",
   "metadata": {},
   "outputs": [],
   "source": [
    "import pandas as pd\n",
    "\n",
    "# List of fold names\n",
    "fold_names = [\"examples\", \"fold1\", \"fold2\", \"fold3\", \"fold4\"]\n",
    "\n",
    "# Add the 'fold' column to each dataframe\n",
    "for name in fold_names:\n",
    "    output_dfs[name]['fold'] = name\n",
    "\n",
    "# Concatenate all dataframes into one\n",
    "merged_df = pd.concat([output_dfs[name] for name in fold_names], ignore_index=True)\n",
    "\n",
    "# Display the first 20 rows of the merged dataframe for verification\n",
    "print(merged_df)\n",
    "\n"
   ]
  },
  {
   "cell_type": "code",
   "execution_count": null,
   "id": "c5f59fd8",
   "metadata": {},
   "outputs": [],
   "source": [
    "merged_df['fold'] = merged_df['fold'].replace(['examples', 'fold1', 'fold2', 'fold3', 'fold4'], ['fold1', 'fold2', 'fold3', 'fold4', 'fold5'])\n"
   ]
  },
  {
   "cell_type": "code",
   "execution_count": null,
   "id": "5b901c15",
   "metadata": {},
   "outputs": [],
   "source": [
    "print(merged_df['manual_sentence_labels'].value_counts(dropna=False))"
   ]
  },
  {
   "cell_type": "code",
   "execution_count": null,
   "id": "ae35c1ae",
   "metadata": {},
   "outputs": [],
   "source": [
    "merged_df.to_csv('folds_test.csv', sep= '\\t')"
   ]
  },
  {
   "cell_type": "code",
   "execution_count": null,
   "id": "0f6129a7",
   "metadata": {},
   "outputs": [],
   "source": [
    "pd.set_option('display.max_colwidth', None)\n",
    "pd.set_option('display.max_rows', None)\n",
    "\n",
    "\n",
    "\n",
    "\n",
    "#print(merged_df[merged_df['relevance_manual'] == 0][['sentence', 'manual_sentence_labels']])\n",
    "print(merged_df[merged_df['manual_sentence_labels'] == 3][['sentence', 'manual_sentence_labels']])"
   ]
  },
  {
   "cell_type": "code",
   "execution_count": null,
   "id": "1530627e",
   "metadata": {},
   "outputs": [],
   "source": []
  }
 ],
 "metadata": {
  "kernelspec": {
   "display_name": "Python 3 (ipykernel)",
   "language": "python",
   "name": "python3"
  },
  "language_info": {
   "codemirror_mode": {
    "name": "ipython",
    "version": 3
   },
   "file_extension": ".py",
   "mimetype": "text/x-python",
   "name": "python",
   "nbconvert_exporter": "python",
   "pygments_lexer": "ipython3",
   "version": "3.9.13"
  }
 },
 "nbformat": 4,
 "nbformat_minor": 5
}
