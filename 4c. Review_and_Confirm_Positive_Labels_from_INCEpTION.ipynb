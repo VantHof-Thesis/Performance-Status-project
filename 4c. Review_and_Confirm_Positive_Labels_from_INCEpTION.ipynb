{
 "cells": [
  {
   "cell_type": "code",
   "execution_count": null,
   "id": "f8ff3fa0",
   "metadata": {},
   "outputs": [],
   "source": [
    "import pandas as pd\n",
    "\n",
    "folds = pd.read_csv('folds_test.csv', sep = '\\t')"
   ]
  },
  {
   "cell_type": "code",
   "execution_count": null,
   "id": "3fa76763",
   "metadata": {},
   "outputs": [],
   "source": [
    "folds.reset_index(drop=True)"
   ]
  },
  {
   "cell_type": "code",
   "execution_count": null,
   "id": "ec83ac1a",
   "metadata": {},
   "outputs": [],
   "source": [
    "folds = folds"
   ]
  },
  {
   "cell_type": "code",
   "execution_count": null,
   "id": "af3ec6da",
   "metadata": {},
   "outputs": [],
   "source": [
    "sentence_validations = []\n",
    "\n",
    "for index, row in folds.iterrows():\n",
    "    if row['relevance_manual'] == 1:\n",
    "        while True:\n",
    "            try:\n",
    "                print(\"Index:\", index)\n",
    "                print('Sentence:', row['sentence'], 'Label:', row['relevance_manual'])\n",
    "                user_input = int(input(\"Please enter an integer: \"))\n",
    "                break\n",
    "            except:\n",
    "                print(\"TRY AGAIN:\")\n",
    "    elif row['relevance_manual'] == 0:\n",
    "        user_input = 0\n",
    "    sentence_validations.append(user_input)\n",
    "    \n",
    "folds['validated'] = sentence_validations "
   ]
  },
  {
   "cell_type": "code",
   "execution_count": null,
   "id": "0b4f6cde",
   "metadata": {},
   "outputs": [],
   "source": [
    "folds['validated'] = sentence_validations\n",
    "folds.to_csv('test_folds_validated2.csv', sep = '\\t')"
   ]
  },
  {
   "cell_type": "code",
   "execution_count": null,
   "id": "24bd6b56",
   "metadata": {},
   "outputs": [],
   "source": []
  },
  {
   "cell_type": "code",
   "execution_count": null,
   "id": "74811ab4",
   "metadata": {},
   "outputs": [],
   "source": []
  },
  {
   "cell_type": "code",
   "execution_count": null,
   "id": "a2f349ca",
   "metadata": {},
   "outputs": [],
   "source": []
  },
  {
   "cell_type": "code",
   "execution_count": null,
   "id": "ba00472b",
   "metadata": {},
   "outputs": [],
   "source": []
  },
  {
   "cell_type": "code",
   "execution_count": null,
   "id": "668a12d3",
   "metadata": {},
   "outputs": [],
   "source": []
  },
  {
   "cell_type": "code",
   "execution_count": null,
   "id": "18357b57",
   "metadata": {},
   "outputs": [],
   "source": []
  },
  {
   "cell_type": "code",
   "execution_count": null,
   "id": "6d9c5caa",
   "metadata": {},
   "outputs": [],
   "source": []
  },
  {
   "cell_type": "code",
   "execution_count": null,
   "id": "a0cacc8f",
   "metadata": {},
   "outputs": [],
   "source": []
  },
  {
   "cell_type": "code",
   "execution_count": null,
   "id": "e368109f",
   "metadata": {},
   "outputs": [],
   "source": []
  },
  {
   "cell_type": "code",
   "execution_count": null,
   "id": "2944d1f5",
   "metadata": {},
   "outputs": [],
   "source": []
  },
  {
   "cell_type": "code",
   "execution_count": null,
   "id": "38783f43",
   "metadata": {},
   "outputs": [],
   "source": []
  },
  {
   "cell_type": "code",
   "execution_count": null,
   "id": "4982d70b",
   "metadata": {},
   "outputs": [],
   "source": []
  },
  {
   "cell_type": "code",
   "execution_count": null,
   "id": "405dbd9e",
   "metadata": {},
   "outputs": [],
   "source": []
  },
  {
   "cell_type": "code",
   "execution_count": null,
   "id": "6be50e68",
   "metadata": {},
   "outputs": [],
   "source": []
  },
  {
   "cell_type": "code",
   "execution_count": null,
   "id": "40f4921f",
   "metadata": {},
   "outputs": [],
   "source": []
  }
 ],
 "metadata": {
  "kernelspec": {
   "display_name": "Python 3 (ipykernel)",
   "language": "python",
   "name": "python3"
  },
  "language_info": {
   "codemirror_mode": {
    "name": "ipython",
    "version": 3
   },
   "file_extension": ".py",
   "mimetype": "text/x-python",
   "name": "python",
   "nbconvert_exporter": "python",
   "pygments_lexer": "ipython3",
   "version": "3.9.13"
  }
 },
 "nbformat": 4,
 "nbformat_minor": 5
}
