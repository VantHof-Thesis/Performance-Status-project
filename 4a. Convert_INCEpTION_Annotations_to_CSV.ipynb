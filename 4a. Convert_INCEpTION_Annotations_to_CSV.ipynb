{
 "cells": [
  {
   "cell_type": "code",
   "execution_count": null,
   "id": "075af863",
   "metadata": {},
   "outputs": [],
   "source": [
    "import pandas as pd\n",
    "import numpy as np\n",
    "import os\n",
    "import glob\n",
    "import matplotlib.pyplot as plt\n",
    "from inceptalytics import Project"
   ]
  },
  {
   "cell_type": "code",
   "execution_count": null,
   "id": "7da993f9",
   "metadata": {},
   "outputs": [],
   "source": [
    "date='20240730'\n",
    "annotator='ann1'\n",
    "\n",
    "file=r'Z:\\Annotations\\Backup\\20240710\\first_batch_ann2.zip'"
   ]
  },
  {
   "cell_type": "code",
   "execution_count": null,
   "id": "3eaf9382",
   "metadata": {},
   "outputs": [],
   "source": [
    "project=Project.from_zipped_xmi(file)"
   ]
  },
  {
   "cell_type": "code",
   "execution_count": null,
   "id": "0921bfca",
   "metadata": {},
   "outputs": [],
   "source": [
    "# create a view \n",
    "pos_type = \"de.tudarmstadt.ukp.dkpro.core.api.lexmorph.type.pos.POS\"\n",
    "\n",
    "view = project.select(\n",
    "        annotation=project.feature_path(layer='webanno.custom.Token',feature='WHO PS'), #project.feature_path(pos_type, \"coarseValue\"), \n",
    "        annotators=project.annotators, \n",
    "        source_files=project.source_file_names\n",
    ")"
   ]
  },
  {
   "cell_type": "code",
   "execution_count": null,
   "id": "9c718447",
   "metadata": {
    "scrolled": true
   },
   "outputs": [],
   "source": [
    "df=view.data_frame\n",
    "WHOPScat=[]\n",
    "WHOPS=[]\n",
    "Annotation_cat=[]\n",
    "\n",
    "for i in range(0,len(view.data_frame)):\n",
    "    if df._annotation.iloc[i].WHOPScategory!=None:\n",
    "        WHOPScat.append(df._annotation.iloc[i].WHOPScategory)\n",
    "    else:\n",
    "        WHOPScat.append('None')\n",
    "    if df._annotation.iloc[i].WHOPS!=None:\n",
    "        WHOPS.append(df._annotation.iloc[i].WHOPS.elements[0])\n",
    "    else:\n",
    "        WHOPS.append('None')\n",
    "\n",
    "    if WHOPScat[-1]=='None' and WHOPS[-1]=='None':\n",
    "        Annotation_cat.append('CTCAE')\n",
    "    else:\n",
    "        \n",
    "        Annotation_cat.append('Performance Status')\n",
    "\n",
    "df['WHOPS']=WHOPS\n",
    "df['WHOPScat']=WHOPScat\n",
    "df['Annotation_cat']=Annotation_cat"
   ]
  },
  {
   "cell_type": "code",
   "execution_count": null,
   "id": "4086cadb",
   "metadata": {},
   "outputs": [],
   "source": [
    "df"
   ]
  },
  {
   "cell_type": "code",
   "execution_count": null,
   "id": "83812e8c",
   "metadata": {},
   "outputs": [],
   "source": [
    "df[df.Annotation_cat=='Performance Status'].to_csv('DataFrame_PS_+' date +'_' + annotator.csv')"
   ]
  }
 ],
 "metadata": {
  "kernelspec": {
   "display_name": "Python 3 (ipykernel)",
   "language": "python",
   "name": "python3"
  },
  "language_info": {
   "codemirror_mode": {
    "name": "ipython",
    "version": 3
   },
   "file_extension": ".py",
   "mimetype": "text/x-python",
   "name": "python",
   "nbconvert_exporter": "python",
   "pygments_lexer": "ipython3",
   "version": "3.9.13"
  }
 },
 "nbformat": 4,
 "nbformat_minor": 5
}
