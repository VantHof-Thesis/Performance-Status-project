{
 "cells": [
  {
   "cell_type": "markdown",
   "id": "3a69b66a",
   "metadata": {},
   "source": [
    "# Import model"
   ]
  },
  {
   "cell_type": "code",
   "execution_count": null,
   "id": "3406bbca",
   "metadata": {},
   "outputs": [],
   "source": [
    "import torch\n",
    "print(torch.cuda.is_available())\n",
    "from transformers import AutoTokenizer, AutoModelForCausalLM\n",
    "\n",
    "# Define the model name\n",
    "model_name = \"BramVanroy/fietje-2-chat\"\n",
    "\n",
    "# Download the tokenizer and model\n",
    "tokenizer = AutoTokenizer.from_pretrained(model_name)\n",
    "model = AutoModelForCausalLM.from_pretrained(model_name)\n",
    "\n",
    "# Move the quantized model back to GPU for inference\n",
    "model = model.to('cuda' if torch.cuda.is_available() else 'cpu')"
   ]
  },
  {
   "cell_type": "markdown",
   "id": "83e4803f",
   "metadata": {},
   "source": [
    "# Import datasets"
   ]
  },
  {
   "cell_type": "code",
   "execution_count": null,
   "id": "e9b61c05",
   "metadata": {},
   "outputs": [],
   "source": [
    "import pandas as pd\n",
    "\n",
    "#df_bin_examples = pd.read_csv('df_bin_examples_acsess.csv', sep= '\\t')\n",
    "#df_class_examples = pd.read_csv('df_class_examples_acsess.csv', sep= '\\t')\n",
    "folds = pd.read_csv('folds.csv', sep= '\\t')"
   ]
  },
  {
   "cell_type": "code",
   "execution_count": null,
   "id": "9f52f46a",
   "metadata": {},
   "outputs": [],
   "source": [
    "df_bin_examples_fold1 = pd.read_csv('df_bin_examples_acsess_fold1.csv', sep= '\\t')\n",
    "df_class_examples_fold1 = pd.read_csv('df_class_examples_acsess_fold1.csv', sep= '\\t')\n",
    "df_bin_examples_fold2 = pd.read_csv('df_bin_examples_acsess_fold2.csv', sep= '\\t')\n",
    "df_class_examples_fold2 = pd.read_csv('df_class_examples_acsess_fold2.csv', sep= '\\t')\n",
    "df_bin_examples_fold3 = pd.read_csv('df_bin_examples_acsess_fold3.csv', sep= '\\t')\n",
    "df_class_examples_fold3 = pd.read_csv('df_class_examples_acsess_fold3.csv', sep= '\\t')\n",
    "df_bin_examples_fold4 = pd.read_csv('df_bin_examples_acsess_fold4.csv', sep= '\\t')\n",
    "df_class_examples_fold4 = pd.read_csv('df_class_examples_acsess_fold4.csv', sep= '\\t')\n",
    "df_bin_examples_fold5 = pd.read_csv('df_bin_examples_acsess_fold5.csv', sep= '\\t')\n",
    "df_class_examples_fold5 = pd.read_csv('df_class_examples_acsess_fold5.csv', sep= '\\t')"
   ]
  },
  {
   "cell_type": "code",
   "execution_count": null,
   "id": "e1e1a435",
   "metadata": {},
   "outputs": [],
   "source": [
    "df_bin_folds = [df_bin_examples_fold1, df_bin_examples_fold2, df_bin_examples_fold3, df_bin_examples_fold4, df_bin_examples_fold5]\n",
    "df_class_folds = [df_class_examples_fold1, df_class_examples_fold2, df_class_examples_fold3, df_class_examples_fold4, df_class_examples_fold5]"
   ]
  },
  {
   "cell_type": "code",
   "execution_count": null,
   "id": "ee778103",
   "metadata": {},
   "outputs": [],
   "source": []
  },
  {
   "cell_type": "code",
   "execution_count": null,
   "id": "508870f0",
   "metadata": {},
   "outputs": [],
   "source": [
    "five_folds = folds[folds['fold'] != 'examples'] "
   ]
  },
  {
   "cell_type": "code",
   "execution_count": null,
   "id": "899c5092",
   "metadata": {},
   "outputs": [],
   "source": [
    "import re"
   ]
  },
  {
   "cell_type": "code",
   "execution_count": null,
   "id": "bdd9c32f",
   "metadata": {},
   "outputs": [],
   "source": []
  },
  {
   "cell_type": "markdown",
   "id": "89eb3c7a",
   "metadata": {},
   "source": [
    "# Binary task"
   ]
  },
  {
   "cell_type": "code",
   "execution_count": null,
   "id": "4f93b177",
   "metadata": {},
   "outputs": [],
   "source": [
    "# define Llama-function\n",
    "def LlamaBin(row, examples_list_folds):\n",
    "    \n",
    "    sentence = row['sentence']\n",
    "    fold = row['fold']\n",
    "    match = re.search(r'\\d+', fold)\n",
    "    fold = int(match.group()) - 1\n",
    "    \n",
    "    examples_list = examples_list_folds[fold]\n",
    "    \n",
    "    if len(examples_list) > 0:\n",
    "        examples_string = \"# Voorbeelden\\n\"\n",
    "        for i in range(len(examples_list)):\n",
    "            example = examples_list[i]\n",
    "            string_part, answer = example[0], example[1]\n",
    "            examples_string += f\"Patiënt {i+1}: {string_part}\\n\"\n",
    "            examples_string += f\"Antwoord {i+1}: {answer}\\n\"\n",
    "    elif len(examples_list) == 0:\n",
    "        examples_string = \"\"\n",
    "    \n",
    "    if len(sentence) > 1000:\n",
    "        sentence = sentence[:1000]\n",
    "    else:\n",
    "        pass\n",
    "    \n",
    "    prompt = f\"\"\"\n",
    "    # Vraag\n",
    "    Geef aan voor de volgende patiëntinformatie of deze een beschrijving van een WHO Performance Status bevat. \n",
    "    Een WHO Performance Status beschrijf de mate waarin een patiënt in staat is zelf activiteiten te ondernemen, \n",
    "    onder andere op het gebied van zelfzorg, huishoudelijk activiteit en lichaamsbeweging. \n",
    "    Geef antwoord '0' wanneer de patiëntinformatie geen Performance Status bevat. Geef antwoord '1' wanneer de patiëntinformatie wél een Performance Status bevat.\n",
    "\n",
    "    {examples_string}\n",
    "    \n",
    "    # Patiëntinformatie \n",
    "    {sentence}\n",
    "\n",
    "    # Antwoord\n",
    "    Antwoord:\"\"\"\n",
    "\n",
    "    inputs = tokenizer(prompt, return_tensors=\"pt\").to(model.device)\n",
    "    with torch.no_grad():\n",
    "        outputs = model.generate(**inputs, max_length = 2000, eos_token_id=tokenizer.encode('\\n'))\n",
    "\n",
    "    #print(tokenizer.decode(outputs[0], skip_special_tokens=True))\n",
    "\n",
    "    output = tokenizer.decode(outputs[0], skip_special_tokens=True)\n",
    "    new_label = output.split(\": \")[-1]\n",
    "    return new_label\n",
    "\n",
    "\n"
   ]
  },
  {
   "cell_type": "code",
   "execution_count": null,
   "id": "9dda991c",
   "metadata": {},
   "outputs": [],
   "source": [
    "# define results dataset\n",
    "acsess_bin_results = five_folds[['note_nr', 'sentence',\n",
    "       'manual_sentence_labels', 'relevance_manual', 'round', 'annotator',\n",
    "       'set', 'fold']]\n",
    "\n",
    "#acsess_bin_results = acsess_bin_results[:5]\n",
    "#five_folds = five_folds[:5]\n",
    "\n",
    "\n",
    "#acsess_bin_results = acsess_bin_results.groupby('fold').head(3)\n",
    "#five_folds = five_folds.groupby('fold').head(3)"
   ]
  },
  {
   "cell_type": "code",
   "execution_count": null,
   "id": "ccc3d036",
   "metadata": {},
   "outputs": [],
   "source": [
    "import re\n",
    "import numpy as np\n",
    "\n",
    "def extract_digit(string):\n",
    "    match = re.search(r'\\d', string)\n",
    "    if match:\n",
    "        return int(match.group())\n",
    "    else:\n",
    "        return np.nan\n",
    "\n",
    "\n",
    "def perform_llama_binary(examples_list_folds, five_folds):\n",
    "    #print(examples_list)\n",
    "    new_labels = []\n",
    "    \n",
    "    for index, row in five_folds.iterrows():\n",
    "        new_label = LlamaBin(row, examples_list_folds)\n",
    "        new_label = extract_digit(new_label)\n",
    "        new_labels.append(new_label)\n",
    "    return new_labels\n",
    "    \n",
    "    \n",
    "for examples_num in range(0,6):\n",
    "    print(\"K=\",examples_num)\n",
    "    if examples_num > 0:\n",
    "        examples_list_folds = []\n",
    "        for i in range(len(df_bin_folds)):\n",
    "            examples = df_bin_folds[i][df_bin_folds[i]['k'] == examples_num]\n",
    "            examples_list = []\n",
    "            for index, row in examples.iterrows():\n",
    "                examples_list.append([row['example'], row['label']])\n",
    "            examples_list_folds.append(examples_list)\n",
    "    elif examples_num == 0:\n",
    "        examples_list_folds = [[],[],[],[],[]]\n",
    "    \n",
    "    new_labels = perform_llama_binary(examples_list_folds, five_folds)\n",
    "    acsess_bin_results[f\"k={examples_num}\"] = new_labels"
   ]
  },
  {
   "cell_type": "code",
   "execution_count": null,
   "id": "41b9e9fa",
   "metadata": {},
   "outputs": [],
   "source": [
    "#print(acsess_bin_results)"
   ]
  },
  {
   "cell_type": "code",
   "execution_count": null,
   "id": "e064f9c0",
   "metadata": {},
   "outputs": [],
   "source": [
    "#acsess_bin_results.to_csv('acsess_bin_results_folds.csv', sep='\\t')"
   ]
  },
  {
   "cell_type": "markdown",
   "id": "d0577146",
   "metadata": {},
   "source": [
    "# Regression task"
   ]
  },
  {
   "cell_type": "code",
   "execution_count": null,
   "id": "4f11d621",
   "metadata": {},
   "outputs": [],
   "source": [
    "# define Llama-function\n",
    "def LlamaClasses(row, examples_list_folds):\n",
    "     \n",
    "    sentence = row['sentence']\n",
    "    fold = row['fold']\n",
    "    match = re.search(r'\\d+', fold)\n",
    "    fold = int(match.group()) - 1\n",
    "\n",
    "    \n",
    "    examples_list = examples_list_folds[fold]\n",
    "    \n",
    "    \n",
    "    \n",
    "    if len(examples_list) > 0:\n",
    "        examples_string = \"# Voorbeelden\\n\"\n",
    "        for i in range(len(examples_list)):\n",
    "            example = examples_list[i]\n",
    "            string_part, answer = example[0], example[1]\n",
    "            examples_string += f\"Patiënt {i+1}: {string_part}\\n\"\n",
    "            examples_string += f\"Antwoord {i+1}: {answer}\\n\"\n",
    "    elif len(examples_list) == 0:\n",
    "        examples_string = \"\"\n",
    "    \n",
    "    if len(sentence) > 1000:\n",
    "        sentence = sentence[:1000]\n",
    "    else:\n",
    "        pass\n",
    "    \n",
    "    prompt = f\"\"\"\n",
    "    # Vraag\n",
    "    Geef een WHO Performance Status score van een patiënt. De waardes zijn als volgt: \n",
    "    * 0: Volledig actief, in staat om alle voorziekte prestaties zonder beperking uit te voeren.\n",
    "    * 1: Beperkt in fysiek inspannende activiteit, maar ambulant en in staat om werk van lichte of sedentaire aard te verrichten, bijv. Licht huiswerk, kantoorwerk.\n",
    "    * 2: Ambulant en geschikt voor alle zelfzorg, maar niet in staat om enige werkactiviteiten uit te voeren. Tot en met meer dan 50% van de wekelijkse uren.\n",
    "    * 3: Alleen beperkte zelfverzorging, beperkt tot bed of meer dan 50% wekelijkse uren.\n",
    "    * 4: Kan geen zelfzorg uitvoeren. Heel beperkt tot bed of stoel.\n",
    "    * 5: Dood\n",
    "    \n",
    "    {examples_string}\n",
    "    \n",
    "    # Patiëntinformatie \n",
    "    {sentence}\n",
    "\n",
    "    # Antwoord\n",
    "    Antwoord:\"\"\"\n",
    "\n",
    "    #print(prompt)\n",
    "\n",
    "    inputs = tokenizer(prompt, return_tensors=\"pt\").to(model.device)\n",
    "    with torch.no_grad():\n",
    "        outputs = model.generate(**inputs, max_length = 5000, eos_token_id=tokenizer.encode('\\n'))\n",
    "\n",
    "    #print(tokenizer.decode(outputs[0], skip_special_tokens=True))\n",
    "\n",
    "    output = tokenizer.decode(outputs[0], skip_special_tokens=True)\n",
    "    new_label = output.split(\": \")[-1]\n",
    "    return new_label\n",
    "\n",
    "\n"
   ]
  },
  {
   "cell_type": "code",
   "execution_count": null,
   "id": "c61536c4",
   "metadata": {},
   "outputs": [],
   "source": []
  },
  {
   "cell_type": "code",
   "execution_count": null,
   "id": "ca254cef",
   "metadata": {},
   "outputs": [],
   "source": [
    "# define results dataset\n",
    "acsess_class_results = five_folds[['note_nr', 'sentence',\n",
    "       'manual_sentence_labels', 'relevance_manual', 'round', 'annotator',\n",
    "       'set', 'fold']]\n",
    "\n",
    "\n",
    "acsess_class_results = acsess_class_results[acsess_class_results['relevance_manual'] == 1]\n",
    "acsess_class_results = acsess_class_results.reset_index(drop=True)\n",
    "\n",
    "five_folds_classes = five_folds[five_folds['relevance_manual'] == 1]\n",
    "five_folds_classes = five_folds_classes.reset_index(drop=True)\n",
    "\n",
    "#acsess_class_results = acsess_class_results.groupby('fold').head(3)\n",
    "#five_folds_classes = five_folds_classes.groupby('fold').head(3)\n",
    "\n",
    "#print(len(acsess_class_results))\n",
    "#print(len(five_folds_classes))\n",
    "\n"
   ]
  },
  {
   "cell_type": "code",
   "execution_count": null,
   "id": "543ae6b7",
   "metadata": {},
   "outputs": [],
   "source": [
    "print()"
   ]
  },
  {
   "cell_type": "code",
   "execution_count": null,
   "id": "cac46706",
   "metadata": {},
   "outputs": [],
   "source": [
    "import re\n",
    "import numpy as np\n",
    "\n",
    "def extract_digit(string):\n",
    "    match = re.search(r'\\d', string)\n",
    "    if match:\n",
    "        return int(match.group())\n",
    "    else:\n",
    "        return np.nan\n",
    "\n",
    "\n",
    "def perform_llama_classes(examples_list_folds, five_folds_classes):\n",
    "    #print(examples_list)\n",
    "    new_labels = []\n",
    "    \n",
    "    for index, row in five_folds_classes.iterrows():\n",
    "        new_label = LlamaClasses(row, examples_list_folds)\n",
    "        new_label = extract_digit(new_label)\n",
    "        new_labels.append(new_label)\n",
    "    return new_labels\n",
    "    \n",
    "    \n",
    "for examples_num in range(0,6):\n",
    "    print(\"K=\",examples_num)\n",
    "\n",
    "    if examples_num > 0:\n",
    "        examples_list_folds = []\n",
    "        for i in range(len(df_class_folds)):\n",
    "            examples = df_class_folds[i][df_class_folds[i]['k'] == examples_num]\n",
    "            examples_list = []\n",
    "            for index, row in examples.iterrows():\n",
    "                examples_list.append([row['example'], row['label']])\n",
    "            examples_list_folds.append(examples_list)\n",
    "    elif examples_num == 0:\n",
    "        examples_list_folds = [[],[],[],[],[]]\n",
    "\n",
    "    new_labels = perform_llama_classes(examples_list_folds, five_folds_classes)\n",
    "    print('len results df:', len(acsess_class_results))\n",
    "    acsess_class_results[f\"k={examples_num}\"] = new_labels"
   ]
  },
  {
   "cell_type": "code",
   "execution_count": null,
   "id": "71c398f8",
   "metadata": {},
   "outputs": [],
   "source": [
    "#print(len(five_folds_classes))"
   ]
  },
  {
   "cell_type": "code",
   "execution_count": null,
   "id": "6926468d",
   "metadata": {},
   "outputs": [],
   "source": [
    "#print(acsess_class_results)"
   ]
  },
  {
   "cell_type": "code",
   "execution_count": null,
   "id": "20e9f303",
   "metadata": {},
   "outputs": [],
   "source": [
    "#acsess_bin_results.to_csv('acsess_bin_results_folds_new_examples.csv', sep='\\t')\n",
    "acsess_class_results.to_csv('acsess_class_results_folds_new_examples.csv', sep='\\t')"
   ]
  },
  {
   "cell_type": "code",
   "execution_count": null,
   "id": "a63d1faf",
   "metadata": {},
   "outputs": [],
   "source": []
  },
  {
   "cell_type": "code",
   "execution_count": null,
   "id": "657df722",
   "metadata": {},
   "outputs": [],
   "source": [
    "#acsess_bin_results.to_csv('acsess_bin_results_folds_new_examples.csv', sep='\\t')"
   ]
  },
  {
   "cell_type": "code",
   "execution_count": null,
   "id": "8c1e9a53",
   "metadata": {},
   "outputs": [],
   "source": []
  },
  {
   "cell_type": "code",
   "execution_count": null,
   "id": "bbded688",
   "metadata": {},
   "outputs": [],
   "source": []
  },
  {
   "cell_type": "code",
   "execution_count": null,
   "id": "4eb5d183",
   "metadata": {},
   "outputs": [],
   "source": []
  },
  {
   "cell_type": "code",
   "execution_count": null,
   "id": "cf20cb55",
   "metadata": {},
   "outputs": [],
   "source": []
  },
  {
   "cell_type": "code",
   "execution_count": null,
   "id": "acf3632d",
   "metadata": {},
   "outputs": [],
   "source": []
  },
  {
   "cell_type": "code",
   "execution_count": null,
   "id": "0ea9d70e",
   "metadata": {},
   "outputs": [],
   "source": []
  },
  {
   "cell_type": "code",
   "execution_count": null,
   "id": "df06d5d8",
   "metadata": {},
   "outputs": [],
   "source": [
    "\n"
   ]
  },
  {
   "cell_type": "code",
   "execution_count": null,
   "id": "1103f34b",
   "metadata": {},
   "outputs": [],
   "source": []
  }
 ],
 "metadata": {
  "kernelspec": {
   "display_name": "Python 3 (ipykernel)",
   "language": "python",
   "name": "python3"
  },
  "language_info": {
   "codemirror_mode": {
    "name": "ipython",
    "version": 3
   },
   "file_extension": ".py",
   "mimetype": "text/x-python",
   "name": "python",
   "nbconvert_exporter": "python",
   "pygments_lexer": "ipython3",
   "version": "3.9.13"
  }
 },
 "nbformat": 4,
 "nbformat_minor": 5
}
