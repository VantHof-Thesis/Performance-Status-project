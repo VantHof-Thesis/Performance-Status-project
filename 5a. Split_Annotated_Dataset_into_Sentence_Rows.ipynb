{
 "cells": [
  {
   "cell_type": "code",
   "execution_count": null,
   "id": "c3680850",
   "metadata": {},
   "outputs": [],
   "source": [
    "import pandas as pd\n",
    "\n",
    "first_round_adjudicated = pd.read_csv('first round_adjudicated.csv', sep = '\\t')\n",
    "\n",
    "first_round_org_iaa = pd.read_csv('first round_org_iaa.csv',  sep = '\\t')\n",
    "\n",
    "second_round_adjudicated = pd.read_csv('first round_org_iaa.csv',  sep = '\\t')\n",
    "\n",
    "second_round_org_iaa = pd.read_csv('first round_org_iaa.csv',  sep = '\\t')\n",
    "\n",
    "test_round_adjudicated = pd.read_csv('first round_org_iaa.csv',  sep = '\\t')\n",
    "\n",
    "test_round_org = pd.read_csv('first round_org_iaa.csv',  sep = '\\t')"
   ]
  },
  {
   "cell_type": "code",
   "execution_count": null,
   "id": "cdc2d31c",
   "metadata": {},
   "outputs": [],
   "source": [
    "print(len(first_round_adjudicated.columns))\n",
    "print(len(first_round_org_iaa.columns))\n",
    "print(len(second_round_adjudicated.columns))            \n",
    "print(len(second_round_org_iaa.columns))\n",
    "print(len(test_round_adjudicated.columns))\n",
    "print(len(test_round_org.columns))"
   ]
  },
  {
   "cell_type": "code",
   "execution_count": null,
   "id": "383405cf",
   "metadata": {},
   "outputs": [],
   "source": [
    "columns = ['annotator', 'censored', 'location', 'manual_sentence_labels', 'note_PS_manual', 'note_nr', 'previous_ann', 'pseudo_id', 'pseudonomised_text', 'relevance_PS_manual', 'relevance_manual', 'report_date', 'report_type', 'round', 'sentences', 'set', 'source_table', 'text_id']\n",
    "\n",
    "first_round_adjudicated = first_round_adjudicated[columns]\n",
    "first_round_org_iaa = first_round_org_iaa[columns]\n",
    "second_round_adjudicated = second_round_adjudicated[columns]\n",
    "second_round_org_iaa = second_round_org_iaa[columns]\n",
    "test_round_adjudicated = test_round_adjudicated[columns]\n",
    "test_round_org = test_round_org[columns]\n",
    "\n",
    "print(sorted(first_round_adjudicated.columns))\n",
    "print(sorted(first_round_org_iaa.columns))\n",
    "print(sorted(second_round_adjudicated.columns))            \n",
    "print(sorted(second_round_org_iaa.columns))\n",
    "print(sorted(test_round_adjudicated.columns))\n",
    "print(sorted(test_round_org.columns))"
   ]
  },
  {
   "cell_type": "code",
   "execution_count": null,
   "id": "2e641eeb",
   "metadata": {},
   "outputs": [],
   "source": [
    "import ast\n",
    "\n",
    "# dfs = [first_round_adjudicated, first_round_org_iaa, second_round_adjudicated, second_round_org_iaa, test_round_adjudicated, test_round_org]\n",
    "\n",
    "# columns_to_convert= ['manual_sentence_labels', 'relevance_manual', 'sentences']\n",
    "\n",
    "# def back_to_lists(df, columns_to_convert):\n",
    "#     print(\"NEW DF\")\n",
    "#     for col in columns_to_convert:\n",
    "#         print(\"COLUMN\", col)\n",
    "#         print(df[col])\n",
    "#         df[col] = df[col].apply(lambda x: ast.literal_eval(x) if isinstance(x, str) and x.startswith(\"[\") else x)\n",
    "#     return df\n",
    "\n",
    "# for i in range(len(dfs)):\n",
    "#     dfs[i] = back_to_lists(dfs[i], columns_to_convert)\n",
    "# # for df in dfs:\n",
    "# #     for col in columns:\n",
    "# #         print(\"COLUMN:\", col)\n",
    "# #         print(df[col][0])\n",
    "import ast\n",
    "import numpy as np\n",
    "\n",
    "# Function to safely evaluate strings that look like Python lists\n",
    "def safe_literal_eval(val):\n",
    "    try:\n",
    "        if isinstance(val, str):\n",
    "            # Replace 'nan' strings with 'None' first\n",
    "            val = val.replace('nan', 'None')\n",
    "            # Safely evaluate the string as a Python literal\n",
    "            result = ast.literal_eval(val)\n",
    "            \n",
    "            # Convert None to np.nan and ensure numbers are integers\n",
    "            def convert_value(v):\n",
    "                if v is None:\n",
    "                    return np.nan\n",
    "                elif isinstance(v, (int, float)) and not np.isnan(v):\n",
    "                    return int(v)\n",
    "                else:\n",
    "                    return v\n",
    "            \n",
    "            return [convert_value(v) for v in result]\n",
    "        return val\n",
    "    except (ValueError, SyntaxError) as e:\n",
    "        # Return the original value if evaluation fails\n",
    "        print(f\"Error evaluating {val}: {e}\")\n",
    "        return val\n",
    "\n",
    "# Function to apply safe_literal_eval to specified columns in a DataFrame\n",
    "def back_to_lists(df, columns_to_convert):\n",
    "    print(\"NEW DF\")\n",
    "    for col in columns_to_convert:\n",
    "        print(\"COLUMN:\", col)\n",
    "        df[col] = df[col].apply(safe_literal_eval)\n",
    "    return df\n",
    "\n",
    "# List of DataFrames\n",
    "dfs = [\n",
    "    first_round_adjudicated, \n",
    "    first_round_org_iaa, \n",
    "    second_round_adjudicated, \n",
    "    second_round_org_iaa, \n",
    "    test_round_adjudicated\n",
    "]\n",
    "\n",
    "# Columns you want to convert using safe_literal_eval\n",
    "columns_to_convert = ['manual_sentence_labels', 'relevance_manual', 'sentences']\n",
    "\n",
    "# Apply the back_to_lists function to each DataFrame in the list\n",
    "for i in range(len(dfs)):\n",
    "    dfs[i] = back_to_lists(dfs[i], columns_to_convert)\n",
    "\n",
    "\n"
   ]
  },
  {
   "cell_type": "code",
   "execution_count": null,
   "id": "9ab83da1",
   "metadata": {},
   "outputs": [],
   "source": [
    "end_df = pd.concat([first_round_adjudicated, second_round_adjudicated, test_round_adjudicated])\n"
   ]
  },
  {
   "cell_type": "code",
   "execution_count": null,
   "id": "49dbcf8e",
   "metadata": {},
   "outputs": [],
   "source": [
    "print(len(end_df))"
   ]
  },
  {
   "cell_type": "code",
   "execution_count": null,
   "id": "47ad5144",
   "metadata": {},
   "outputs": [],
   "source": [
    "print((end_df['sentences'][end_df['pseudonomised_text'].str.contains(\"patient overleden\")]).index)\n",
    "\n",
    "end_df.iloc[0, end_df.columns.get_loc('manual_sentence_labels')] = [5]\n",
    "end_df.iloc[0, end_df.columns.get_loc('note_PS_manual')] = 5\n",
    "end_df.iloc[0, end_df.columns.get_loc('relevance_PS_manual')] = 1\n",
    "end_df.iloc[0, end_df.columns.get_loc('relevance_manual')] = [1]\n",
    "#end_df.at[0, 'manual_sentence_labels'] = [5]\n",
    "#end_df['note_PS_manual'][0] = 5\n",
    "#end_df['relevance_PS_manual'][0] = 1\n",
    "#end_df['relevance_manual'][0] = [1]\n",
    "\n",
    "print(end_df[['manual_sentence_labels', 'note_PS_manual', 'relevance_PS_manual', 'relevance_manual']].head())"
   ]
  },
  {
   "cell_type": "code",
   "execution_count": null,
   "id": "78752d7f",
   "metadata": {},
   "outputs": [],
   "source": [
    "\n",
    "\n",
    "# print(end_df['pseudonomised_text'].str.contains(\"DEATHDATE\", na=False).sum())\n",
    "# end_df = end_df[~end_df['pseudonomised_text'].str.contains(\"DEATHDATE\", na=False)]\n",
    "\n"
   ]
  },
  {
   "cell_type": "code",
   "execution_count": null,
   "id": "d349a29a",
   "metadata": {},
   "outputs": [],
   "source": [
    "#end_df_val = end_df[end_df['set'] == 'val']\n",
    "#end_df_test = end_df[end_df['set'] == 'test']"
   ]
  },
  {
   "cell_type": "code",
   "execution_count": null,
   "id": "c83b7676",
   "metadata": {},
   "outputs": [],
   "source": [
    "#print(end_df_val['annotator'].unique())"
   ]
  },
  {
   "cell_type": "code",
   "execution_count": null,
   "id": "f4da99d1",
   "metadata": {},
   "outputs": [],
   "source": [
    "#end_df_val = end_df_val.reset_index(drop=True)"
   ]
  },
  {
   "cell_type": "code",
   "execution_count": null,
   "id": "2144f458",
   "metadata": {},
   "outputs": [],
   "source": [
    "# for index, row in end_df_val.iterrows():\n",
    "#     print(\"NEW NOTE:\")\n",
    "#     print(row['sentences'])\n",
    "#     print(len(row['sentences']))\n",
    "#     print(len(row['manual_sentence_labels']))\n",
    "#     print(row['manual_sentence_labels'])\n",
    "#     print(len(row['relevance_manual']))\n",
    "#     print(row['relevance_manual'])"
   ]
  },
  {
   "cell_type": "code",
   "execution_count": null,
   "id": "9c2dea21",
   "metadata": {},
   "outputs": [],
   "source": [
    "sentences_df = pd.DataFrame(columns = ['note_nr', 'sentence', 'manual_sentence_labels', 'relevance_manual', 'round', 'annotator', 'set'])\n",
    "\n",
    "for index, row in end_df.iterrows():\n",
    "    print(len(row['sentences']))\n",
    "    print(len(row['manual_sentence_labels']))\n",
    "    print(len(row['relevance_manual']))\n",
    "    for i in range(len(row['sentences'])):\n",
    "        sentence = row['sentences'][i]\n",
    "        PS = row['manual_sentence_labels'][i]\n",
    "        relevance = row['relevance_manual'][i]\n",
    "        sentences_df = sentences_df.append({'note_nr': row['note_nr'], 'sentence': sentence, 'manual_sentence_labels': PS, 'relevance_manual': relevance, 'round': row['round'], 'annotator': row['annotator'], 'set': row['set']}, ignore_index=True)"
   ]
  },
  {
   "cell_type": "code",
   "execution_count": null,
   "id": "ce5efdb5",
   "metadata": {},
   "outputs": [],
   "source": [
    "print(sentences_df)\n",
    "print(sentences_df['manual_sentence_labels'].value_counts())"
   ]
  },
  {
   "cell_type": "code",
   "execution_count": null,
   "id": "92ad73b7",
   "metadata": {},
   "outputs": [],
   "source": [
    "pd.set_option('display.max_colwidth', None)\n",
    "print(sentences_df[sentences_df['manual_sentence_labels']==5])"
   ]
  },
  {
   "cell_type": "code",
   "execution_count": null,
   "id": "0cb9ca4a",
   "metadata": {},
   "outputs": [],
   "source": [
    "print(end_df['note_PS_manual'].value_counts())"
   ]
  },
  {
   "cell_type": "code",
   "execution_count": null,
   "id": "c445438e",
   "metadata": {},
   "outputs": [],
   "source": [
    "sentences_val = sentences_df[sentences_df['set'] == 'val']\n",
    "sentences_test = sentences_df[sentences_df['set'] == 'test']"
   ]
  },
  {
   "cell_type": "code",
   "execution_count": null,
   "id": "dbbe3af2",
   "metadata": {},
   "outputs": [],
   "source": [
    "print(\"VAL:\")\n",
    "print(sentences_val['manual_sentence_labels'].value_counts(dropna=False))\n",
    "print(len(sentences_val))\n",
    "print(\"TEST:\")\n",
    "print(sentences_test['manual_sentence_labels'].value_counts(dropna=False))"
   ]
  },
  {
   "cell_type": "code",
   "execution_count": null,
   "id": "afca52f8",
   "metadata": {},
   "outputs": [],
   "source": [
    "#sentences_val_adj = sentences_val[sentences_val['annotator'] == 'adjudicated']\n",
    "#sentences_val_ann = sentences_val[sentences_val['annotator'] != 'adjudicated']"
   ]
  },
  {
   "cell_type": "code",
   "execution_count": null,
   "id": "433a2edb",
   "metadata": {},
   "outputs": [],
   "source": [
    "# print(len(sentences_val_adj))\n",
    "# print(len(sentences_val_ann))"
   ]
  },
  {
   "cell_type": "code",
   "execution_count": null,
   "id": "f139e303",
   "metadata": {},
   "outputs": [],
   "source": [
    "# print(\"ADJ:\")\n",
    "# print(sentences_val_adj['manual_sentence_labels'].value_counts())\n",
    "# print(\"ANN:\")\n",
    "# print(sentences_val_ann['manual_sentence_labels'].value_counts())"
   ]
  },
  {
   "cell_type": "code",
   "execution_count": null,
   "id": "27c74395",
   "metadata": {},
   "outputs": [],
   "source": [
    "#sentences_val.to_csv('Example searching on val set/sentences_val.csv', sep = '\\t')"
   ]
  },
  {
   "cell_type": "code",
   "execution_count": null,
   "id": "20aa3132",
   "metadata": {},
   "outputs": [],
   "source": [
    "sentences_test.to_csv('Actions on test set/sentences_test.csv', sep = '\\t')"
   ]
  }
 ],
 "metadata": {
  "kernelspec": {
   "display_name": "Python 3 (ipykernel)",
   "language": "python",
   "name": "python3"
  },
  "language_info": {
   "codemirror_mode": {
    "name": "ipython",
    "version": 3
   },
   "file_extension": ".py",
   "mimetype": "text/x-python",
   "name": "python",
   "nbconvert_exporter": "python",
   "pygments_lexer": "ipython3",
   "version": "3.9.13"
  }
 },
 "nbformat": 4,
 "nbformat_minor": 5
}
